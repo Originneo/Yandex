{
 "cells": [
  {
   "cell_type": "code",
   "execution_count": 2,
   "metadata": {
    "collapsed": true
   },
   "outputs": [],
   "source": [
    "import os\n",
    "import numpy as np\n",
    "import pandas as pd\n",
    "import matplotlib.pyplot as plt\n",
    "import re\n",
    "import string\n",
    "import pymorphy2\n",
    "from sklearn.feature_extraction.text import TfidfVectorizer\n",
    "from sklearn.decomposition import TruncatedSVD\n",
    "from sklearn.pipeline import make_pipeline\n",
    "from sklearn.preprocessing import Normalizer\n",
    "from sklearn.datasets import fetch_20newsgroups\n",
    "import stop_words\n",
    "import gensim\n",
    "import nltk\n",
    "from nltk.stem.porter import PorterStemmer\n",
    "from gensim import corpora, models\n",
    "from sklearn.decomposition import LatentDirichletAllocation\n",
    "\n",
    "%matplotlib inline"
   ]
  },
  {
   "cell_type": "code",
   "execution_count": 4,
   "metadata": {
    "collapsed": true
   },
   "outputs": [],
   "source": [
    "N_TOPICS = 4"
   ]
  },
  {
   "cell_type": "code",
   "execution_count": 5,
   "metadata": {},
   "outputs": [
    {
     "data": {
      "text/html": [
       "<div>\n",
       "<style scoped>\n",
       "    .dataframe tbody tr th:only-of-type {\n",
       "        vertical-align: middle;\n",
       "    }\n",
       "\n",
       "    .dataframe tbody tr th {\n",
       "        vertical-align: top;\n",
       "    }\n",
       "\n",
       "    .dataframe thead th {\n",
       "        text-align: right;\n",
       "    }\n",
       "</style>\n",
       "<table border=\"1\" class=\"dataframe\">\n",
       "  <thead>\n",
       "    <tr style=\"text-align: right;\">\n",
       "      <th></th>\n",
       "      <th>politics</th>\n",
       "      <th>science</th>\n",
       "      <th>culture</th>\n",
       "      <th>economy</th>\n",
       "    </tr>\n",
       "  </thead>\n",
       "  <tbody>\n",
       "    <tr>\n",
       "      <th>0</th>\n",
       "      <td>('Встреча Лаврова и Зарифа прорабатывается, за...</td>\n",
       "      <td>('SpaceX: при запуске спутника Zuma ракета Fal...</td>\n",
       "      <td>('Партнерша Ведерникова по ГАБТ назвала его че...</td>\n",
       "      <td>('Цена на нефть марки Brent впервые с мая 2015...</td>\n",
       "    </tr>\n",
       "    <tr>\n",
       "      <th>1</th>\n",
       "      <td>('Путин обсудил с Силуановым и Пучковым госпро...</td>\n",
       "      <td>('Генетики раскрыли родословную первых викинго...</td>\n",
       "      <td>('Солистка Большого театра Татьяна Ерастова на...</td>\n",
       "      <td>('Цена на нефть марки WTI впервые с 2014 года ...</td>\n",
       "    </tr>\n",
       "    <tr>\n",
       "      <th>2</th>\n",
       "      <td>('Медведев назначил Шпади замглавы Росжелдора'...</td>\n",
       "      <td>('Ученые нашли в Австралии птиц с крыльями тем...</td>\n",
       "      <td>('Солист Большого театра Владимир Маторин отме...</td>\n",
       "      <td>('Натуральное свинство: чем грозит России иск ...</td>\n",
       "    </tr>\n",
       "    <tr>\n",
       "      <th>3</th>\n",
       "      <td>('Медведев освободил Луковникова от должности ...</td>\n",
       "      <td>('В Финляндии разработают спрей для лечения иг...</td>\n",
       "      <td>('Франшизы и супергерои: самые ожидаемые фильм...</td>\n",
       "      <td>('Россия попросит ВТО созвать панель арбитров ...</td>\n",
       "    </tr>\n",
       "    <tr>\n",
       "      <th>4</th>\n",
       "      <td>('ЦИК получил документы для регистрации Грудин...</td>\n",
       "      <td>('РКК \"Энергия\" предложила заряжать лунные ста...</td>\n",
       "      <td>('Умер оперный певец Александр Ведерников', ' ...</td>\n",
       "      <td>('Тень независимости: почему Украина не соскоч...</td>\n",
       "    </tr>\n",
       "  </tbody>\n",
       "</table>\n",
       "</div>"
      ],
      "text/plain": [
       "                                            politics  \\\n",
       "0  ('Встреча Лаврова и Зарифа прорабатывается, за...   \n",
       "1  ('Путин обсудил с Силуановым и Пучковым госпро...   \n",
       "2  ('Медведев назначил Шпади замглавы Росжелдора'...   \n",
       "3  ('Медведев освободил Луковникова от должности ...   \n",
       "4  ('ЦИК получил документы для регистрации Грудин...   \n",
       "\n",
       "                                             science  \\\n",
       "0  ('SpaceX: при запуске спутника Zuma ракета Fal...   \n",
       "1  ('Генетики раскрыли родословную первых викинго...   \n",
       "2  ('Ученые нашли в Австралии птиц с крыльями тем...   \n",
       "3  ('В Финляндии разработают спрей для лечения иг...   \n",
       "4  ('РКК \"Энергия\" предложила заряжать лунные ста...   \n",
       "\n",
       "                                             culture  \\\n",
       "0  ('Партнерша Ведерникова по ГАБТ назвала его че...   \n",
       "1  ('Солистка Большого театра Татьяна Ерастова на...   \n",
       "2  ('Солист Большого театра Владимир Маторин отме...   \n",
       "3  ('Франшизы и супергерои: самые ожидаемые фильм...   \n",
       "4  ('Умер оперный певец Александр Ведерников', ' ...   \n",
       "\n",
       "                                             economy  \n",
       "0  ('Цена на нефть марки Brent впервые с мая 2015...  \n",
       "1  ('Цена на нефть марки WTI впервые с 2014 года ...  \n",
       "2  ('Натуральное свинство: чем грозит России иск ...  \n",
       "3  ('Россия попросит ВТО созвать панель арбитров ...  \n",
       "4  ('Тень независимости: почему Украина не соскоч...  "
      ]
     },
     "execution_count": 5,
     "metadata": {},
     "output_type": "execute_result"
    }
   ],
   "source": [
    "data =  pd.read_csv('texts.csv')\n",
    "data.head()"
   ]
  },
  {
   "cell_type": "code",
   "execution_count": 6,
   "metadata": {
    "collapsed": true
   },
   "outputs": [],
   "source": [
    "import numpy as np\n",
    "from pymystem3 import Mystem\n",
    "m = Mystem()\n",
    "\n",
    "def clean(x):\n",
    "    res = []\n",
    "    for word in x:\n",
    "        if (' ' not in word) and ('\\n' not in word):\n",
    "            res.append(word)\n",
    "    return np.array(res)\n",
    "        \n",
    "\n",
    "def preprocess(x): \n",
    "    x = x.replace('?', '.').replace('!', '.')\n",
    "    x = re.sub(r'[^\\w\\s]', ' ', x.lower())\n",
    "    x = re.sub('\\d', ' ', x)\n",
    "    x = re.sub(r'[\\n\\r\\t]', ' ', x)\n",
    "    x = ' '.join(re.split(\"[^а-я]*\", x.lower()))\n",
    "    x = m.lemmatize(x)\n",
    "    x = clean(x)\n",
    "    return ' '.join(x)"
   ]
  },
  {
   "cell_type": "code",
   "execution_count": 7,
   "metadata": {},
   "outputs": [
    {
     "name": "stderr",
     "output_type": "stream",
     "text": [
      "/anaconda3/lib/python3.6/re.py:212: FutureWarning: split() requires a non-empty pattern match.\n",
      "  return _compile(pattern, flags).split(string, maxsplit)\n"
     ]
    },
    {
     "data": {
      "text/html": [
       "<div>\n",
       "<style scoped>\n",
       "    .dataframe tbody tr th:only-of-type {\n",
       "        vertical-align: middle;\n",
       "    }\n",
       "\n",
       "    .dataframe tbody tr th {\n",
       "        vertical-align: top;\n",
       "    }\n",
       "\n",
       "    .dataframe thead th {\n",
       "        text-align: right;\n",
       "    }\n",
       "</style>\n",
       "<table border=\"1\" class=\"dataframe\">\n",
       "  <thead>\n",
       "    <tr style=\"text-align: right;\">\n",
       "      <th></th>\n",
       "      <th>politics</th>\n",
       "      <th>science</th>\n",
       "      <th>culture</th>\n",
       "      <th>economy</th>\n",
       "    </tr>\n",
       "  </thead>\n",
       "  <tbody>\n",
       "    <tr>\n",
       "      <th>0</th>\n",
       "      <td>встреча лавров и зарифа прорабатываться заявля...</td>\n",
       "      <td>при запуск спутник ракета работать штатный ком...</td>\n",
       "      <td>партнерша ведерникова по габт называть он чело...</td>\n",
       "      <td>цена на нефть марка впервые с май год превышат...</td>\n",
       "    </tr>\n",
       "    <tr>\n",
       "      <th>1</th>\n",
       "      <td>путин обсуждать с силуанов и пучков госпрограм...</td>\n",
       "      <td>генетик раскрывать родословная первый викинг с...</td>\n",
       "      <td>солистка большой театр татьяна ерастова называ...</td>\n",
       "      <td>цена на нефть марка впервые с год превышать за...</td>\n",
       "    </tr>\n",
       "    <tr>\n",
       "      <th>2</th>\n",
       "      <td>медведев назначать шпадь замглавы росжелдор пр...</td>\n",
       "      <td>ученый находить в австралия птица с крыло темн...</td>\n",
       "      <td>солист большой театр владимир маторина отмечат...</td>\n",
       "      <td>натуральный свинство что грозить россия иск ев...</td>\n",
       "    </tr>\n",
       "    <tr>\n",
       "      <th>3</th>\n",
       "      <td>медведев освобождать луковников от должность з...</td>\n",
       "      <td>в финляндия разрабатывать спрей для лечение иг...</td>\n",
       "      <td>франшиза и супергерой самый ожидать фильм год ...</td>\n",
       "      <td>россия попросить вто созывать панель арбитр по...</td>\n",
       "    </tr>\n",
       "    <tr>\n",
       "      <th>4</th>\n",
       "      <td>цик получать документ для регистрация грудинин...</td>\n",
       "      <td>ркк энергия предлагать заряжать лунный станция...</td>\n",
       "      <td>умирать оперный певец александр ведерников сов...</td>\n",
       "      <td>тень независимость почему украина не соскакива...</td>\n",
       "    </tr>\n",
       "  </tbody>\n",
       "</table>\n",
       "</div>"
      ],
      "text/plain": [
       "                                            politics  \\\n",
       "0  встреча лавров и зарифа прорабатываться заявля...   \n",
       "1  путин обсуждать с силуанов и пучков госпрограм...   \n",
       "2  медведев назначать шпадь замглавы росжелдор пр...   \n",
       "3  медведев освобождать луковников от должность з...   \n",
       "4  цик получать документ для регистрация грудинин...   \n",
       "\n",
       "                                             science  \\\n",
       "0  при запуск спутник ракета работать штатный ком...   \n",
       "1  генетик раскрывать родословная первый викинг с...   \n",
       "2  ученый находить в австралия птица с крыло темн...   \n",
       "3  в финляндия разрабатывать спрей для лечение иг...   \n",
       "4  ркк энергия предлагать заряжать лунный станция...   \n",
       "\n",
       "                                             culture  \\\n",
       "0  партнерша ведерникова по габт называть он чело...   \n",
       "1  солистка большой театр татьяна ерастова называ...   \n",
       "2  солист большой театр владимир маторина отмечат...   \n",
       "3  франшиза и супергерой самый ожидать фильм год ...   \n",
       "4  умирать оперный певец александр ведерников сов...   \n",
       "\n",
       "                                             economy  \n",
       "0  цена на нефть марка впервые с май год превышат...  \n",
       "1  цена на нефть марка впервые с год превышать за...  \n",
       "2  натуральный свинство что грозить россия иск ев...  \n",
       "3  россия попросить вто созывать панель арбитр по...  \n",
       "4  тень независимость почему украина не соскакива...  "
      ]
     },
     "execution_count": 7,
     "metadata": {},
     "output_type": "execute_result"
    }
   ],
   "source": [
    "for col in data.columns:\n",
    "    data[col] = data[col].apply(lambda x: preprocess(x))\n",
    "data.head()"
   ]
  },
  {
   "cell_type": "code",
   "execution_count": 8,
   "metadata": {},
   "outputs": [
    {
     "data": {
      "text/html": [
       "<div>\n",
       "<style scoped>\n",
       "    .dataframe tbody tr th:only-of-type {\n",
       "        vertical-align: middle;\n",
       "    }\n",
       "\n",
       "    .dataframe tbody tr th {\n",
       "        vertical-align: top;\n",
       "    }\n",
       "\n",
       "    .dataframe thead th {\n",
       "        text-align: right;\n",
       "    }\n",
       "</style>\n",
       "<table border=\"1\" class=\"dataframe\">\n",
       "  <thead>\n",
       "    <tr style=\"text-align: right;\">\n",
       "      <th></th>\n",
       "      <th>label</th>\n",
       "      <th>text</th>\n",
       "    </tr>\n",
       "  </thead>\n",
       "  <tbody>\n",
       "    <tr>\n",
       "      <th>0</th>\n",
       "      <td>politics</td>\n",
       "      <td>встреча лавров и зарифа прорабатываться заявля...</td>\n",
       "    </tr>\n",
       "    <tr>\n",
       "      <th>1</th>\n",
       "      <td>politics</td>\n",
       "      <td>путин обсуждать с силуанов и пучков госпрограм...</td>\n",
       "    </tr>\n",
       "    <tr>\n",
       "      <th>2</th>\n",
       "      <td>politics</td>\n",
       "      <td>медведев назначать шпадь замглавы росжелдор пр...</td>\n",
       "    </tr>\n",
       "    <tr>\n",
       "      <th>3</th>\n",
       "      <td>politics</td>\n",
       "      <td>медведев освобождать луковников от должность з...</td>\n",
       "    </tr>\n",
       "    <tr>\n",
       "      <th>4</th>\n",
       "      <td>politics</td>\n",
       "      <td>цик получать документ для регистрация грудинин...</td>\n",
       "    </tr>\n",
       "  </tbody>\n",
       "</table>\n",
       "</div>"
      ],
      "text/plain": [
       "      label                                               text\n",
       "0  politics  встреча лавров и зарифа прорабатываться заявля...\n",
       "1  politics  путин обсуждать с силуанов и пучков госпрограм...\n",
       "2  politics  медведев назначать шпадь замглавы росжелдор пр...\n",
       "3  politics  медведев освобождать луковников от должность з...\n",
       "4  politics  цик получать документ для регистрация грудинин..."
      ]
     },
     "execution_count": 8,
     "metadata": {},
     "output_type": "execute_result"
    }
   ],
   "source": [
    "dz2 = []\n",
    "for col in data.columns:\n",
    "    for line in data[col]:\n",
    "        dz2.append([col, line])\n",
    "dz2 = pd.DataFrame(dz2)\n",
    "dz2.columns = ['label', 'text']\n",
    "dz2.head()"
   ]
  },
  {
   "cell_type": "markdown",
   "metadata": {},
   "source": [
    "***LSA***\n",
    "\n",
    "LSA = TFIDF + SVD"
   ]
  },
  {
   "cell_type": "code",
   "execution_count": 9,
   "metadata": {},
   "outputs": [
    {
     "data": {
      "text/plain": [
       "(800, 14174)"
      ]
     },
     "execution_count": 9,
     "metadata": {},
     "output_type": "execute_result"
    }
   ],
   "source": [
    "from sklearn.feature_extraction.text import CountVectorizer, TfidfTransformer\n",
    "count_vect = CountVectorizer()\n",
    "X_train_counts = count_vect.fit_transform(dz2.text)\n",
    "tfidf_transformer = TfidfTransformer()\n",
    "X_train_tfidf = tfidf_transformer.fit_transform(X_train_counts)\n",
    "X_train_tfidf.shape"
   ]
  },
  {
   "cell_type": "code",
   "execution_count": 10,
   "metadata": {},
   "outputs": [
    {
     "name": "stdout",
     "output_type": "stream",
     "text": [
      "14174 14174 14174\n"
     ]
    }
   ],
   "source": [
    "keys = list(count_vect.vocabulary_.keys())\n",
    "values = list(count_vect.vocabulary_.values())\n",
    "\n",
    "_ind = np.argsort(values)\n",
    "words_sorted = np.asarray(keys)[_ind]\n",
    "\n",
    "print(len(keys), len(values), len(words_sorted))"
   ]
  },
  {
   "cell_type": "code",
   "execution_count": 11,
   "metadata": {
    "collapsed": true
   },
   "outputs": [],
   "source": [
    "N_TOPICS = 4\n",
    "svd = TruncatedSVD(n_components=N_TOPICS, n_iter=10).fit(X_train_counts)"
   ]
  },
  {
   "cell_type": "code",
   "execution_count": 12,
   "metadata": {
    "scrolled": false
   },
   "outputs": [
    {
     "name": "stdout",
     "output_type": "stream",
     "text": [
      "['этот' 'он' 'который' 'это' 'по' 'год' 'не' 'быть' 'что' 'на']\n",
      "[0.14582898 0.14992837 0.15668938 0.16016262 0.20561814 0.21030667\n",
      " 0.24793947 0.25302075 0.30994471 0.47189822]\n",
      "\n",
      "['путин' 'на' 'подпись' 'выборы' 'цик' 'избирательный' 'россия' 'партия'\n",
      " 'президент' 'кандидат']\n",
      "[0.13579026 0.13951727 0.15276133 0.1625743  0.19957096 0.21107689\n",
      " 0.21341478 0.22701195 0.2280147  0.35098059]\n",
      "\n",
      "['рынок' 'миллиард' 'до' 'ставка' 'доллар' 'процент' 'за' 'по' 'год' 'на']\n",
      "[0.05639443 0.06189236 0.06873756 0.07208325 0.07613211 0.07752128\n",
      " 0.09502415 0.14502373 0.41631148 0.45245627]\n",
      "\n",
      "['цик' 'этот' 'на' 'из' 'партия' 'как' 'кандидат' 'от' 'они' 'ученый']\n",
      "[0.11140189 0.11223313 0.1156421  0.13662421 0.14190919 0.16521465\n",
      " 0.18241829 0.18748953 0.20110572 0.24826585]\n",
      "\n"
     ]
    },
    {
     "data": {
      "image/png": "[encoded data removed]",
      "text/plain": [
       "<matplotlib.figure.Figure at 0x10bc202b0>"
      ]
     },
     "metadata": {},
     "output_type": "display_data"
    },
    {
     "data": {
      "image/png": "[encoded data removed]",
      "text/plain": [
       "<matplotlib.figure.Figure at 0x104db8dd8>"
      ]
     },
     "metadata": {},
     "output_type": "display_data"
    },
    {
     "data": {
      "image/png": "[encoded data removed]",
      "text/plain": [
       "<matplotlib.figure.Figure at 0x10be055c0>"
      ]
     },
     "metadata": {},
     "output_type": "display_data"
    },
    {
     "data": {
      "image/png": "[encoded data removed]",
      "text/plain": [
       "<matplotlib.figure.Figure at 0x10c014240>"
      ]
     },
     "metadata": {},
     "output_type": "display_data"
    }
   ],
   "source": [
    "stub = [0] * N_TOPICS\n",
    "\n",
    "for i in range(N_TOPICS):\n",
    "    ind = np.argsort(svd.components_[i])[-10:]\n",
    "    print(words_sorted[ind])\n",
    "    print(np.sort(svd.components_[i])[-10:])\n",
    "    print()\n",
    "    \n",
    "    tmp = stub.copy()\n",
    "    tmp[i] = 1\n",
    "    plt.figure(figsize=(15, 5))\n",
    "    plt.plot(svd.components_[i])\n",
    "    plt.grid(True)"
   ]
  },
  {
   "cell_type": "markdown",
   "metadata": {},
   "source": [
    "***Темы*** 1) не очень ясна 2)выборы путина 3)экономика 4)выборы"
   ]
  },
  {
   "cell_type": "markdown",
   "metadata": {},
   "source": [
    "***LDA ***\n",
    "\n",
    "LDA = LSA + Dirichlet\n",
    "\n",
    "gensim"
   ]
  },
  {
   "cell_type": "code",
   "execution_count": 13,
   "metadata": {
    "collapsed": true
   },
   "outputs": [],
   "source": [
    "N_TOPICS = 10"
   ]
  },
  {
   "cell_type": "code",
   "execution_count": 14,
   "metadata": {
    "collapsed": true
   },
   "outputs": [],
   "source": [
    "corpus = []\n",
    "\n",
    "for i in dz2.text:\n",
    "    tokens = i.split(' ')\n",
    "    tokens = [t for t in tokens if len(t) >= 4]\n",
    "    corpus.append(tokens)"
   ]
  },
  {
   "cell_type": "code",
   "execution_count": 15,
   "metadata": {
    "collapsed": true
   },
   "outputs": [],
   "source": [
    "dictionary = corpora.Dictionary(corpus)"
   ]
  },
  {
   "cell_type": "code",
   "execution_count": 16,
   "metadata": {
    "collapsed": true
   },
   "outputs": [],
   "source": [
    "X_bow = [dictionary.doc2bow(text) for text in corpus]\n"
   ]
  },
  {
   "cell_type": "code",
   "execution_count": 17,
   "metadata": {
    "collapsed": true
   },
   "outputs": [],
   "source": [
    "lda_gensim = gensim.models.ldamodel.LdaModel(X_bow, num_topics=N_TOPICS, id2word=dictionary, iterations=10)"
   ]
  },
  {
   "cell_type": "code",
   "execution_count": 18,
   "metadata": {},
   "outputs": [
    {
     "data": {
      "text/plain": [
       "[(0,\n",
       "  '0.010*\"быть\" + 0.009*\"этот\" + 0.006*\"который\" + 0.004*\"весь\" + 0.004*\"россия\" + 0.004*\"ученый\" + 0.003*\"свой\" + 0.003*\"сообщать\" + 0.003*\"российский\" + 0.003*\"другой\"'),\n",
       " (1,\n",
       "  '0.009*\"который\" + 0.008*\"быть\" + 0.008*\"этот\" + 0.006*\"россия\" + 0.006*\"президент\" + 0.005*\"российский\" + 0.004*\"весь\" + 0.004*\"сообщать\" + 0.004*\"ученый\" + 0.003*\"мочь\"'),\n",
       " (2,\n",
       "  '0.013*\"быть\" + 0.007*\"который\" + 0.006*\"этот\" + 0.005*\"мочь\" + 0.005*\"россия\" + 0.004*\"российский\" + 0.004*\"первый\" + 0.004*\"другой\" + 0.003*\"также\" + 0.003*\"президент\"'),\n",
       " (3,\n",
       "  '0.010*\"быть\" + 0.009*\"который\" + 0.008*\"этот\" + 0.006*\"россия\" + 0.004*\"президент\" + 0.004*\"мочь\" + 0.004*\"также\" + 0.004*\"свой\" + 0.003*\"российский\" + 0.003*\"один\"'),\n",
       " (4,\n",
       "  '0.013*\"быть\" + 0.007*\"этот\" + 0.007*\"россия\" + 0.006*\"который\" + 0.006*\"российский\" + 0.004*\"ученый\" + 0.004*\"свой\" + 0.003*\"другой\" + 0.003*\"мочь\" + 0.003*\"человек\"'),\n",
       " (5,\n",
       "  '0.015*\"быть\" + 0.008*\"который\" + 0.007*\"россия\" + 0.006*\"этот\" + 0.004*\"мочь\" + 0.004*\"сообщать\" + 0.004*\"свой\" + 0.003*\"также\" + 0.003*\"кандидат\" + 0.003*\"первый\"'),\n",
       " (6,\n",
       "  '0.014*\"быть\" + 0.009*\"который\" + 0.008*\"россия\" + 0.006*\"этот\" + 0.005*\"свой\" + 0.004*\"президент\" + 0.004*\"сообщать\" + 0.003*\"фильм\" + 0.003*\"ученый\" + 0.003*\"российский\"'),\n",
       " (7,\n",
       "  '0.013*\"быть\" + 0.007*\"который\" + 0.007*\"россия\" + 0.006*\"этот\" + 0.004*\"президент\" + 0.004*\"фильм\" + 0.004*\"мочь\" + 0.003*\"весь\" + 0.003*\"сообщать\" + 0.003*\"свой\"'),\n",
       " (8,\n",
       "  '0.011*\"который\" + 0.011*\"быть\" + 0.007*\"россия\" + 0.005*\"этот\" + 0.004*\"свой\" + 0.004*\"кандидат\" + 0.004*\"весь\" + 0.003*\"президент\" + 0.003*\"российский\" + 0.003*\"сказать\"'),\n",
       " (9,\n",
       "  '0.014*\"быть\" + 0.008*\"россия\" + 0.008*\"который\" + 0.007*\"этот\" + 0.005*\"президент\" + 0.004*\"свой\" + 0.004*\"также\" + 0.004*\"российский\" + 0.004*\"глава\" + 0.004*\"кандидат\"')]"
      ]
     },
     "execution_count": 18,
     "metadata": {},
     "output_type": "execute_result"
    }
   ],
   "source": [
    "lda_gensim.print_topics()"
   ]
  },
  {
   "cell_type": "markdown",
   "metadata": {
    "collapsed": true
   },
   "source": [
    "***ТЕмы*** 1)наука 2)президент 3)президент 4)президент 5)наука 6)выборы 7)президент 8)выборы 9)выборы 10)выборы"
   ]
  },
  {
   "cell_type": "markdown",
   "metadata": {},
   "source": [
    "***sklearn***"
   ]
  },
  {
   "cell_type": "code",
   "execution_count": 19,
   "metadata": {
    "collapsed": true
   },
   "outputs": [],
   "source": [
    "N_TOPICS = 3"
   ]
  },
  {
   "cell_type": "code",
   "execution_count": 20,
   "metadata": {},
   "outputs": [
    {
     "name": "stdout",
     "output_type": "stream",
     "text": [
      "iteration: 1 of max_iter: 10, perplexity: 29470.7792\n",
      "iteration: 2 of max_iter: 10, perplexity: 26728.8138\n",
      "iteration: 3 of max_iter: 10, perplexity: 23284.0667\n",
      "iteration: 4 of max_iter: 10, perplexity: 21419.9620\n",
      "iteration: 5 of max_iter: 10, perplexity: 20471.3992\n",
      "iteration: 6 of max_iter: 10, perplexity: 20007.9915\n",
      "iteration: 7 of max_iter: 10, perplexity: 19755.6878\n",
      "iteration: 8 of max_iter: 10, perplexity: 19562.4028\n",
      "iteration: 9 of max_iter: 10, perplexity: 19428.3005\n",
      "iteration: 10 of max_iter: 10, perplexity: 19362.2347\n"
     ]
    }
   ],
   "source": [
    "lda_sklearn = LatentDirichletAllocation(n_components=N_TOPICS, max_iter=10, batch_size=10, evaluate_every=1, verbose=1, \n",
    "                                        n_jobs=4, learning_method='batch').fit(X_train_tfidf)"
   ]
  },
  {
   "cell_type": "code",
   "execution_count": 21,
   "metadata": {},
   "outputs": [
    {
     "data": {
      "text/plain": [
       "(3, 14174)"
      ]
     },
     "execution_count": 21,
     "metadata": {},
     "output_type": "execute_result"
    }
   ],
   "source": [
    "lda_sklearn.components_.shape"
   ]
  },
  {
   "cell_type": "code",
   "execution_count": 22,
   "metadata": {},
   "outputs": [
    {
     "name": "stdout",
     "output_type": "stream",
     "text": [
      "['винсент' 'сингер' 'ларен' 'голландский' 'выставляться' 'атрибутировать'\n",
      " 'амстердамский' 'ван' 'рисунок' 'гог']\n",
      "[0.14582898 0.14992837 0.15668938 0.16016262 0.20561814 0.21030667\n",
      " 0.24793947 0.25302075 0.30994471 0.47189822]\n",
      "\n",
      "['президент' 'он' 'который' 'россия' 'по' 'не' 'быть' 'год' 'что' 'на']\n",
      "[0.13579026 0.13951727 0.15276133 0.1625743  0.19957096 0.21107689\n",
      " 0.21341478 0.22701195 0.2280147  0.35098059]\n",
      "\n",
      "['аллен' 'сольный' 'альбом' 'вокалистка' 'солистка' 'ирландский' 'долорес'\n",
      " 'певица' 'ведерников' 'риордан']\n",
      "[0.05639443 0.06189236 0.06873756 0.07208325 0.07613211 0.07752128\n",
      " 0.09502415 0.14502373 0.41631148 0.45245627]\n",
      "\n"
     ]
    }
   ],
   "source": [
    "stub = [0] * N_TOPICS\n",
    "\n",
    "for i in range(N_TOPICS):\n",
    "    ind = np.argsort(lda_sklearn.components_[i])[-10:]\n",
    "    print(words_sorted[ind])\n",
    "    print(np.sort(svd.components_[i])[-10:])\n",
    "    print()\n",
    "#     break"
   ]
  },
  {
   "cell_type": "markdown",
   "metadata": {
    "collapsed": true
   },
   "source": [
    "***Темы*** 1)живопись 2)политика 3)музыка"
   ]
  },
  {
   "cell_type": "code",
   "execution_count": null,
   "metadata": {
    "collapsed": true
   },
   "outputs": [],
   "source": []
  }
 ],
 "metadata": {
  "kernelspec": {
   "display_name": "Python 3",
   "language": "python",
   "name": "python3"
  },
  "language_info": {
   "codemirror_mode": {
    "name": "ipython",
    "version": 3
   },
   "file_extension": ".py",
   "mimetype": "text/x-python",
   "name": "python",
   "nbconvert_exporter": "python",
   "pygments_lexer": "ipython3",
   "version": "3.6.3"
  }
 },
 "nbformat": 4,
 "nbformat_minor": 2
}
