{
 "cells": [
  {
   "cell_type": "code",
   "execution_count": 1,
   "metadata": {
    "collapsed": true
   },
   "outputs": [],
   "source": [
    "import os\n",
    "import sys\n",
    "import pandas as pd\n",
    "import fnmatch\n",
    "import json\n",
    "import re\n",
    "\n",
    "from pymystem3 import Mystem\n",
    "m = Mystem()"
   ]
  },
  {
   "cell_type": "code",
   "execution_count": 2,
   "metadata": {
    "collapsed": true
   },
   "outputs": [],
   "source": [
    "path = '../'"
   ]
  },
  {
   "cell_type": "code",
   "execution_count": 10,
   "metadata": {},
   "outputs": [
    {
     "data": {
      "text/html": [
       "<div>\n",
       "<style scoped>\n",
       "    .dataframe tbody tr th:only-of-type {\n",
       "        vertical-align: middle;\n",
       "    }\n",
       "\n",
       "    .dataframe tbody tr th {\n",
       "        vertical-align: top;\n",
       "    }\n",
       "\n",
       "    .dataframe thead th {\n",
       "        text-align: right;\n",
       "    }\n",
       "</style>\n",
       "<table border=\"1\" class=\"dataframe\">\n",
       "  <thead>\n",
       "    <tr style=\"text-align: right;\">\n",
       "      <th></th>\n",
       "      <th>tag</th>\n",
       "      <th>text</th>\n",
       "    </tr>\n",
       "  </thead>\n",
       "  <tbody>\n",
       "    <tr>\n",
       "      <th>0</th>\n",
       "      <td>fashion</td>\n",
       "      <td>Я могу легко заявить, что русские с энтузиазмо...</td>\n",
       "    </tr>\n",
       "    <tr>\n",
       "      <th>1</th>\n",
       "      <td>fashion</td>\n",
       "      <td>Мода - это то, с чем мы имеем дело каждый день...</td>\n",
       "    </tr>\n",
       "    <tr>\n",
       "      <th>2</th>\n",
       "      <td>fashion</td>\n",
       "      <td>Что такое шопинг? На мой взгляд, это очень сло...</td>\n",
       "    </tr>\n",
       "    <tr>\n",
       "      <th>3</th>\n",
       "      <td>fashion</td>\n",
       "      <td>Сегодня все больше и больше людей начинают зад...</td>\n",
       "    </tr>\n",
       "    <tr>\n",
       "      <th>4</th>\n",
       "      <td>fashion</td>\n",
       "      <td>Мода - это то, с чем мы имеем дело каждый день...</td>\n",
       "    </tr>\n",
       "  </tbody>\n",
       "</table>\n",
       "</div>"
      ],
      "text/plain": [
       "       tag                                               text\n",
       "0  fashion  Я могу легко заявить, что русские с энтузиазмо...\n",
       "1  fashion  Мода - это то, с чем мы имеем дело каждый день...\n",
       "2  fashion  Что такое шопинг? На мой взгляд, это очень сло...\n",
       "3  fashion  Сегодня все больше и больше людей начинают зад...\n",
       "4  fashion  Мода - это то, с чем мы имеем дело каждый день..."
      ]
     },
     "execution_count": 10,
     "metadata": {},
     "output_type": "execute_result"
    }
   ],
   "source": [
    "data = []\n",
    "for root, dir1, files in os.walk(path):\n",
    "    for item in fnmatch.filter(files, \"*.txt\"):\n",
    "        data.append([root.split('/')[-1], open(os.path.join(root, item)).read()])\n",
    "data = pd.DataFrame(data)\n",
    "data.columns = ['tag', 'text']\n",
    "data.head()"
   ]
  },
  {
   "cell_type": "code",
   "execution_count": 11,
   "metadata": {},
   "outputs": [
    {
     "name": "stderr",
     "output_type": "stream",
     "text": [
      "/anaconda3/lib/python3.6/re.py:212: FutureWarning: split() requires a non-empty pattern match.\n",
      "  return _compile(pattern, flags).split(string, maxsplit)\n"
     ]
    },
    {
     "data": {
      "text/html": [
       "<div>\n",
       "<style scoped>\n",
       "    .dataframe tbody tr th:only-of-type {\n",
       "        vertical-align: middle;\n",
       "    }\n",
       "\n",
       "    .dataframe tbody tr th {\n",
       "        vertical-align: top;\n",
       "    }\n",
       "\n",
       "    .dataframe thead th {\n",
       "        text-align: right;\n",
       "    }\n",
       "</style>\n",
       "<table border=\"1\" class=\"dataframe\">\n",
       "  <thead>\n",
       "    <tr style=\"text-align: right;\">\n",
       "      <th></th>\n",
       "      <th>tag</th>\n",
       "      <th>text</th>\n",
       "    </tr>\n",
       "  </thead>\n",
       "  <tbody>\n",
       "    <tr>\n",
       "      <th>0</th>\n",
       "      <td>fashion</td>\n",
       "      <td>я могу легко заявить что русские с энтузиазмом...</td>\n",
       "    </tr>\n",
       "    <tr>\n",
       "      <th>1</th>\n",
       "      <td>fashion</td>\n",
       "      <td>мода это то с чем мы имеем дело каждый день да...</td>\n",
       "    </tr>\n",
       "    <tr>\n",
       "      <th>2</th>\n",
       "      <td>fashion</td>\n",
       "      <td>что такое шопинг на мой взгляд это очень сложн...</td>\n",
       "    </tr>\n",
       "    <tr>\n",
       "      <th>3</th>\n",
       "      <td>fashion</td>\n",
       "      <td>сегодня все больше и больше людей начинают зад...</td>\n",
       "    </tr>\n",
       "    <tr>\n",
       "      <th>4</th>\n",
       "      <td>fashion</td>\n",
       "      <td>мода это то с чем мы имеем дело каждый день да...</td>\n",
       "    </tr>\n",
       "  </tbody>\n",
       "</table>\n",
       "</div>"
      ],
      "text/plain": [
       "       tag                                               text\n",
       "0  fashion  я могу легко заявить что русские с энтузиазмом...\n",
       "1  fashion  мода это то с чем мы имеем дело каждый день да...\n",
       "2  fashion  что такое шопинг на мой взгляд это очень сложн...\n",
       "3  fashion  сегодня все больше и больше людей начинают зад...\n",
       "4  fashion  мода это то с чем мы имеем дело каждый день да..."
      ]
     },
     "execution_count": 11,
     "metadata": {},
     "output_type": "execute_result"
    }
   ],
   "source": [
    "data.text = data.text.apply(lambda x: re.sub(r'[^\\w\\s]', ' ', x.lower()))\n",
    "data.text = data.text.apply(lambda x: re.sub('\\d', ' ', x))\n",
    "data.text = data.text.apply(lambda x: re.sub(r'[\\n\\r\\t]', ' ', x))\n",
    "data.text = data.text.apply(lambda x: ' '.join(re.split(\"[^а-я]*\", x.lower())))\n",
    "data.head()"
   ]
  },
  {
   "cell_type": "code",
   "execution_count": 12,
   "metadata": {},
   "outputs": [
    {
     "data": {
      "text/html": [
       "<div>\n",
       "<style scoped>\n",
       "    .dataframe tbody tr th:only-of-type {\n",
       "        vertical-align: middle;\n",
       "    }\n",
       "\n",
       "    .dataframe tbody tr th {\n",
       "        vertical-align: top;\n",
       "    }\n",
       "\n",
       "    .dataframe thead th {\n",
       "        text-align: right;\n",
       "    }\n",
       "</style>\n",
       "<table border=\"1\" class=\"dataframe\">\n",
       "  <thead>\n",
       "    <tr style=\"text-align: right;\">\n",
       "      <th></th>\n",
       "      <th>tag</th>\n",
       "      <th>text</th>\n",
       "    </tr>\n",
       "  </thead>\n",
       "  <tbody>\n",
       "    <tr>\n",
       "      <th>0</th>\n",
       "      <td>fashion</td>\n",
       "      <td>[я, мочь, легко, заявлять, что, русский, с, эн...</td>\n",
       "    </tr>\n",
       "    <tr>\n",
       "      <th>1</th>\n",
       "      <td>fashion</td>\n",
       "      <td>[мода, это, то, с, что, мы, иметь, дело, кажды...</td>\n",
       "    </tr>\n",
       "    <tr>\n",
       "      <th>2</th>\n",
       "      <td>fashion</td>\n",
       "      <td>[что, такой, шопинг, на, мой, взгляд, это, оче...</td>\n",
       "    </tr>\n",
       "    <tr>\n",
       "      <th>3</th>\n",
       "      <td>fashion</td>\n",
       "      <td>[сегодня, все, много, и, много, человек, начин...</td>\n",
       "    </tr>\n",
       "    <tr>\n",
       "      <th>4</th>\n",
       "      <td>fashion</td>\n",
       "      <td>[мода, это, то, с, что, мы, иметь, дело, кажды...</td>\n",
       "    </tr>\n",
       "  </tbody>\n",
       "</table>\n",
       "</div>"
      ],
      "text/plain": [
       "       tag                                               text\n",
       "0  fashion  [я, мочь, легко, заявлять, что, русский, с, эн...\n",
       "1  fashion  [мода, это, то, с, что, мы, иметь, дело, кажды...\n",
       "2  fashion  [что, такой, шопинг, на, мой, взгляд, это, оче...\n",
       "3  fashion  [сегодня, все, много, и, много, человек, начин...\n",
       "4  fashion  [мода, это, то, с, что, мы, иметь, дело, кажды..."
      ]
     },
     "execution_count": 12,
     "metadata": {},
     "output_type": "execute_result"
    }
   ],
   "source": [
    "data.text = data.text.apply(lambda x: m.lemmatize(x))\n",
    "data.text = data.text.apply(lambda x: [i for i in x if ' ' not in i])\n",
    "data.head()"
   ]
  },
  {
   "cell_type": "code",
   "execution_count": 13,
   "metadata": {
    "collapsed": true
   },
   "outputs": [],
   "source": [
    "uni = []\n",
    "for i in data.text:\n",
    "    uni += i\n",
    "uni = sorted(list(set(uni)))"
   ]
  },
  {
   "cell_type": "code",
   "execution_count": 14,
   "metadata": {
    "collapsed": true
   },
   "outputs": [],
   "source": [
    "num2v = {}\n",
    "v2num = {}\n",
    "for i, v in enumerate(uni):\n",
    "    v2num[v] = i\n",
    "    num2v[i] = v"
   ]
  },
  {
   "cell_type": "code",
   "execution_count": 9,
   "metadata": {
    "collapsed": true
   },
   "outputs": [],
   "source": [
    "json.dump(num2v, open('../data/num2v.json', 'w'))\n",
    "json.dump(v2num, open('../data/v2num.json', 'w'))"
   ]
  },
  {
   "cell_type": "code",
   "execution_count": 246,
   "metadata": {},
   "outputs": [
    {
     "data": {
      "text/html": [
       "<div>\n",
       "<style scoped>\n",
       "    .dataframe tbody tr th:only-of-type {\n",
       "        vertical-align: middle;\n",
       "    }\n",
       "\n",
       "    .dataframe tbody tr th {\n",
       "        vertical-align: top;\n",
       "    }\n",
       "\n",
       "    .dataframe thead th {\n",
       "        text-align: right;\n",
       "    }\n",
       "</style>\n",
       "<table border=\"1\" class=\"dataframe\">\n",
       "  <thead>\n",
       "    <tr style=\"text-align: right;\">\n",
       "      <th></th>\n",
       "      <th>tag</th>\n",
       "      <th>text</th>\n",
       "    </tr>\n",
       "  </thead>\n",
       "  <tbody>\n",
       "    <tr>\n",
       "      <th>0</th>\n",
       "      <td>fashion</td>\n",
       "      <td>1244 524 443 322 1214 928 932 1236 1182 296 74...</td>\n",
       "    </tr>\n",
       "    <tr>\n",
       "      <th>1</th>\n",
       "      <td>fashion</td>\n",
       "      <td>512 1238 1089 932 1214 528 360 224 386 226 212...</td>\n",
       "    </tr>\n",
       "    <tr>\n",
       "      <th>2</th>\n",
       "      <td>fashion</td>\n",
       "      <td>1214 1068 1225 531 517 108 1238 688 977 148 10...</td>\n",
       "    </tr>\n",
       "    <tr>\n",
       "      <th>3</th>\n",
       "      <td>fashion</td>\n",
       "      <td>949 158 507 340 507 1202 559 304 617 512 528 1...</td>\n",
       "    </tr>\n",
       "    <tr>\n",
       "      <th>4</th>\n",
       "      <td>fashion</td>\n",
       "      <td>512 1238 1089 932 1214 528 360 224 386 226 212...</td>\n",
       "    </tr>\n",
       "  </tbody>\n",
       "</table>\n",
       "</div>"
      ],
      "text/plain": [
       "       tag                                               text\n",
       "0  fashion  1244 524 443 322 1214 928 932 1236 1182 296 74...\n",
       "1  fashion  512 1238 1089 932 1214 528 360 224 386 226 212...\n",
       "2  fashion  1214 1068 1225 531 517 108 1238 688 977 148 10...\n",
       "3  fashion  949 158 507 340 507 1202 559 304 617 512 528 1...\n",
       "4  fashion  512 1238 1089 932 1214 528 360 224 386 226 212..."
      ]
     },
     "execution_count": 246,
     "metadata": {},
     "output_type": "execute_result"
    }
   ],
   "source": [
    "data.text = data.text.apply(lambda x: ' '.join(str(v2num[i]) for i in x))\n",
    "data.head()"
   ]
  },
  {
   "cell_type": "code",
   "execution_count": 247,
   "metadata": {
    "collapsed": true
   },
   "outputs": [],
   "source": [
    "data.to_csv('../data/prepared.csv', index=False)"
   ]
  },
  {
   "cell_type": "code",
   "execution_count": null,
   "metadata": {
    "collapsed": true
   },
   "outputs": [],
   "source": []
  }
 ],
 "metadata": {
  "kernelspec": {
   "display_name": "Python 3",
   "language": "python",
   "name": "python3"
  },
  "language_info": {
   "codemirror_mode": {
    "name": "ipython",
    "version": 3
   },
   "file_extension": ".py",
   "mimetype": "text/x-python",
   "name": "python",
   "nbconvert_exporter": "python",
   "pygments_lexer": "ipython3",
   "version": "3.6.3"
  }
 },
 "nbformat": 4,
 "nbformat_minor": 2
}
